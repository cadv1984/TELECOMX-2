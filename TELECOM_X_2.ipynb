{
  "nbformat": 4,
  "nbformat_minor": 0,
  "metadata": {
    "colab": {
      "provenance": [],
      "toc_visible": true,
      "authorship_tag": "ABX9TyPiEck1Hn37dN35wxB3iHtO",
      "include_colab_link": true
    },
    "kernelspec": {
      "name": "python3",
      "display_name": "Python 3"
    },
    "language_info": {
      "name": "python"
    }
  },
  "cells": [
    {
      "cell_type": "markdown",
      "metadata": {
        "id": "view-in-github",
        "colab_type": "text"
      },
      "source": [
        "<a href=\"https://colab.research.google.com/github/cadv1984/TELECOMX-2/blob/main/TELECOM_X_2.ipynb\" target=\"_parent\"><img src=\"https://colab.research.google.com/assets/colab-badge.svg\" alt=\"Open In Colab\"/></a>"
      ]
    },
    {
      "cell_type": "code",
      "execution_count": null,
      "metadata": {
        "id": "dSwUKwL_tN0D"
      },
      "outputs": [],
      "source": []
    },
    {
      "cell_type": "markdown",
      "source": [
        "# Extracción del Archivo"
      ],
      "metadata": {
        "id": "hBHx6Jqzw6Bm"
      }
    },
    {
      "cell_type": "markdown",
      "source": [
        "Este código comienza con importar las librerías necesarias como pandas, numpy entre otras. Se carga archivo del proyecto anterior y luego se realiza una limpieza inicial."
      ],
      "metadata": {
        "id": "bA6vM5YU5otI"
      }
    },
    {
      "cell_type": "code",
      "source": [],
      "metadata": {
        "id": "BZ4FODNh5j4K"
      },
      "execution_count": null,
      "outputs": []
    },
    {
      "cell_type": "code",
      "source": [
        "import pandas as pd\n",
        "import numpy as np\n",
        "from sklearn.model_selection import train_test_split\n",
        "from sklearn.preprocessing import StandardScaler, OneHotEncoder\n",
        "from sklearn.compose import ColumnTransformer\n",
        "from sklearn.pipeline import Pipeline\n",
        "from sklearn.linear_model import LogisticRegression\n",
        "from sklearn.ensemble import RandomForestClassifier\n",
        "from sklearn.metrics import accuracy_score, precision_score, recall_score, f1_score, confusion_matrix, classification_report\n",
        "import matplotlib.pyplot as plt\n",
        "import seaborn as sns\n",
        "\n"
      ],
      "metadata": {
        "id": "ngE8FF7txAVW"
      },
      "execution_count": 23,
      "outputs": []
    },
    {
      "cell_type": "code",
      "source": [
        "#carga de datos\n",
        "\n",
        "try:\n",
        "  df = pd.read_csv('/content/datos_tratados.csv')\n",
        "except FileNotFoundError:\n",
        "  print(\"El archivo no se encuentra en la ruta especificada.\")\n",
        "except Exception as e:\n",
        "  print(f\"Ocurrió un error al cargar el archivo: {e}\")\n",
        "\n",
        ""
      ],
      "metadata": {
        "id": "mDIT2nYDxbe7"
      },
      "execution_count": 24,
      "outputs": []
    },
    {
      "cell_type": "code",
      "source": [
        "#limpiar datos\n",
        "\n",
        "df = df.drop('customerID', axis=1)\n",
        "df['account.Charges.Total'] = pd.to_numeric(df['account.Charges.Total'], errors='coerce')\n",
        "df = df.dropna()\n",
        "\n",
        "print ('Formato de los datos luego de la limpieza:')\n",
        "print(df.info())\n",
        "\n",
        "# validar proporción de CHURN\n",
        "\n",
        "churn_porportion = df['Churn'].value_counts(normalize=True)\n",
        "print('\\nProporción de clientes que cancelaron servicio')\n",
        "print(churn_porportion)"
      ],
      "metadata": {
        "colab": {
          "base_uri": "https://localhost:8080/"
        },
        "id": "vHh5wCHM5cwA",
        "outputId": "5b526e1b-a51d-4077-e66d-8d3469dabac4"
      },
      "execution_count": 25,
      "outputs": [
        {
          "output_type": "stream",
          "name": "stdout",
          "text": [
            "Formato de los datos luego de la limpieza:\n",
            "<class 'pandas.core.frame.DataFrame'>\n",
            "Index: 7043 entries, 0 to 7266\n",
            "Data columns (total 21 columns):\n",
            " #   Column                     Non-Null Count  Dtype  \n",
            "---  ------                     --------------  -----  \n",
            " 0   Churn                      7043 non-null   object \n",
            " 1   customer.gender            7043 non-null   object \n",
            " 2   customer.SeniorCitizen     7043 non-null   int64  \n",
            " 3   customer.Partner           7043 non-null   object \n",
            " 4   customer.Dependents        7043 non-null   object \n",
            " 5   customer.tenure            7043 non-null   int64  \n",
            " 6   phone.PhoneService         7043 non-null   object \n",
            " 7   phone.MultipleLines        7043 non-null   object \n",
            " 8   internet.InternetService   7043 non-null   object \n",
            " 9   internet.OnlineSecurity    7043 non-null   object \n",
            " 10  internet.OnlineBackup      7043 non-null   object \n",
            " 11  internet.DeviceProtection  7043 non-null   object \n",
            " 12  internet.TechSupport       7043 non-null   object \n",
            " 13  internet.StreamingTV       7043 non-null   object \n",
            " 14  internet.StreamingMovies   7043 non-null   object \n",
            " 15  account.Contract           7043 non-null   object \n",
            " 16  account.PaperlessBilling   7043 non-null   object \n",
            " 17  account.PaymentMethod      7043 non-null   object \n",
            " 18  account.Charges.Monthly    7043 non-null   float64\n",
            " 19  account.Charges.Total      7043 non-null   float64\n",
            " 20  Cuentas_Diarias            7043 non-null   float64\n",
            "dtypes: float64(3), int64(2), object(16)\n",
            "memory usage: 1.2+ MB\n",
            "None\n",
            "\n",
            "Proporción de clientes que cancelaron servicio\n",
            "Churn\n",
            "No     0.73463\n",
            "Yes    0.26537\n",
            "Name: proportion, dtype: float64\n"
          ]
        }
      ]
    },
    {
      "cell_type": "markdown",
      "source": [],
      "metadata": {
        "id": "Wfdd2GSxzfXy"
      }
    },
    {
      "cell_type": "markdown",
      "source": [
        "# Preprocesamiento de datos y preparación para el modelado\n"
      ],
      "metadata": {
        "id": "eMvryv3szglK"
      }
    },
    {
      "cell_type": "markdown",
      "source": [
        "Se definen las variables categóricas y numéricas para aplicar diferentes transformaciones. La variable objetivo churn se mapea a valores binarios (0 y 1). Luego, se utiliza ColumnTransforme para aplicar OneHotEncoder a las variables categóricas y StandardScaler (normalización) a las variables numéricas. Esta metodología asegura que cada  tipo de dato reciba el procesamiento adecuado antes de ser alimentado a los modelos. Finalmente, los datos se dividen en conjuntos de entrenamiento y prueba."
      ],
      "metadata": {
        "id": "1Yfs-wa87L3g"
      }
    },
    {
      "cell_type": "code",
      "source": [
        "# definir varibles categóricas y numéricas\n",
        "categorical_features = df.select_dtypes(include=['object']).columns.tolist()\n",
        "categorical_features.remove('Churn')  # Ahora 'Churn' sí está en la lista para ser eliminado.\n",
        "numerical_features = df.select_dtypes(include=['int64', 'float64']).columns.tolist()\n",
        "\n",
        "# mapear variable objetivo a valores binarios\n",
        "df['Churn'] = df['Churn'].map({'Yes': 1, 'No': 0})\n",
        "\n",
        "#separa variables predictoras (X) y variable objetivo (y)\n",
        "X = df.drop('Churn', axis=1)\n",
        "y = df['Churn']\n",
        "\n",
        "#separa los datos en conjuntos de entrenamiento y prueba\n",
        "\n",
        "X_train, X_test, y_train, y_test = train_test_split(X, y, test_size=0.2, random_state=42, stratify=y)\n",
        "\n",
        "# preprocesador para Regresión Logística (con normalización)\n",
        "preprocessor_lr = ColumnTransformer(\n",
        "    transformers=[\n",
        "        ('cat', OneHotEncoder(handle_unknown='ignore'), categorical_features),\n",
        "        ('num', StandardScaler(), numerical_features)\n",
        "    ],\n",
        "    remainder='passthrough'\n",
        "    )\n",
        "\n",
        "# preprocesador para Random Forest (sin normalización)\n",
        "preprocessor_rf = ColumnTransformer(\n",
        "    transformers=[\n",
        "        ('cat', OneHotEncoder(handle_unknown='ignore'), categorical_features),\n",
        "\n",
        "    ],\n",
        "    remainder='passthrough'\n",
        "    )\n",
        "\n",
        "\n",
        "print('Dimensiones de los conjuntos de entrenamiento y prueba:')\n",
        "print('X_train:', X_train.shape)\n",
        "print('X_test:', X_test.shape)\n",
        "print('y_train:', y_train.shape)\n",
        "print('y_test:', y_test.shape)\n",
        "#\n"
      ],
      "metadata": {
        "colab": {
          "base_uri": "https://localhost:8080/"
        },
        "id": "cswBFmOOziQT",
        "outputId": "8a62593e-f139-419e-cb8a-380f241f7095"
      },
      "execution_count": 26,
      "outputs": [
        {
          "output_type": "stream",
          "name": "stdout",
          "text": [
            "Dimensiones de los conjuntos de entrenamiento y prueba:\n",
            "X_train: (5634, 20)\n",
            "X_test: (1409, 20)\n",
            "y_train: (5634,)\n",
            "y_test: (1409,)\n"
          ]
        }
      ]
    },
    {
      "cell_type": "markdown",
      "source": [],
      "metadata": {
        "id": "AVVXVGlH9gOx"
      }
    },
    {
      "cell_type": "code",
      "source": [],
      "metadata": {
        "id": "AmHAyzxTB3Iw"
      },
      "execution_count": null,
      "outputs": []
    },
    {
      "cell_type": "markdown",
      "source": [
        "# Creación y Evaluación de Modelos"
      ],
      "metadata": {
        "id": "8X7xFGuLB3xO"
      }
    },
    {
      "cell_type": "code",
      "source": [
        "# modelo 1: regresión logística con normalización\n",
        "\n",
        "pipeline_lr = Pipeline(steps=[\n",
        "    ('preprocessor', preprocessor_lr),\n",
        "    ('classifier', LogisticRegression(solver='liblinear', random_state=42))\n",
        "])\n",
        "\n",
        "pipeline_lr.fit(X_train, y_train)\n",
        "y_pred_lr = pipeline_lr.predict(X_test)\n",
        "\n",
        "print('Métricas del modelo regresión logística con normalización:')\n",
        "print(f'Exactitud:{accuracy_score(y_test, y_pred_lr):.4f}')\n",
        "print(f'Precisión:{precision_score(y_test,y_pred_lr):.4f}')\n",
        "print(f'Recall:{recall_score(y_test, y_pred_lr):.4f}')\n",
        "print(f'F1-Score:{f1_score(y_test, y_pred_lr):.4f}')\n",
        "print(f'\\n Matriz de Confusión:\\n',confusion_matrix(y_test, y_pred_lr))\n",
        "\n",
        "\n"
      ],
      "metadata": {
        "colab": {
          "base_uri": "https://localhost:8080/"
        },
        "id": "1wzCCGSb7GKW",
        "outputId": "3480c8ea-c064-4773-81ca-4ef05e4b453c"
      },
      "execution_count": 27,
      "outputs": [
        {
          "output_type": "stream",
          "name": "stdout",
          "text": [
            "Métricas del modelo regresión logística con normalización:\n",
            "Exactitud:0.7935\n",
            "Precisión:0.6352\n",
            "Recall:0.5214\n",
            "F1-Score:0.5727\n",
            "\n",
            " Matriz de Confusión:\n",
            " [[923 112]\n",
            " [179 195]]\n"
          ]
        }
      ]
    },
    {
      "cell_type": "code",
      "source": [
        "from os import pipe\n",
        "# modelo 2: Random Forest sin normalización\n",
        "\n",
        "pipeline_rf = Pipeline(steps=[\n",
        "    ('preprocessor', preprocessor_rf),\n",
        "    ('classifier', RandomForestClassifier(n_estimators=100,random_state=42))\n",
        "])\n",
        "pipeline_rf.fit(X_train, y_train)\n",
        "y_pred_rf = pipeline_rf.predict(X_test)\n",
        "\n",
        "print('Métricas del modelo Random Forest sin normalización:')\n",
        "print(f'Exactitud:{accuracy_score(y_test, y_pred_rf):.4f}')\n",
        "print(f'Precisión:{precision_score(y_test,y_pred_rf):.4f}')\n",
        "print(f'Recall:{recall_score(y_test, y_pred_rf):.4f}')\n",
        "print(f'F1-Score:{f1_score(y_test, y_pred_rf):.4f}')\n",
        "print(f'\\n Matriz de Confusión:\\n',confusion_matrix(y_test, y_pred_rf))\n"
      ],
      "metadata": {
        "id": "OLi-9N_eFco2",
        "outputId": "36e8181d-474d-47d7-891a-2e15e11cfbc1",
        "colab": {
          "base_uri": "https://localhost:8080/"
        }
      },
      "execution_count": 29,
      "outputs": [
        {
          "output_type": "stream",
          "name": "stdout",
          "text": [
            "Métricas del modelo Random Forest sin normalización:\n",
            "Exactitud:0.7842\n",
            "Precisión:0.6224\n",
            "Recall:0.4759\n",
            "F1-Score:0.5394\n",
            "\n",
            " Matriz de Confusión:\n",
            " [[927 108]\n",
            " [196 178]]\n"
          ]
        }
      ]
    },
    {
      "cell_type": "markdown",
      "source": [
        "# Análisis de la importancia de las Variables"
      ],
      "metadata": {
        "id": "XhDWbwiwI9_f"
      }
    },
    {
      "cell_type": "code",
      "source": [
        "# análisis de Coeficientes de Regresión Logística\n",
        "\n",
        "ohe_feature_names = pipeline_lr.named_steps['preprocessor'].named_transformers_['cat'].get_feature_names_out(categorical_features)\n",
        "feature_names_lr = list(numerical_features) + list(ohe_feature_names)\n",
        "coefficients_lr = pipeline_lr.named_steps['classifier'].coef_[0]\n",
        "\n",
        "coef_df_lr = pd.DataFrame({'Feature': feature_names_lr, 'Coefficient': coefficients_lr})\n",
        "coef_df_lr['Abs_Coefficient'] = coef_df_lr['Coefficient'].abs()\n",
        "coef_df_lr = coef_df_lr.sort_values(by='Abs_Coefficient', ascending=False)\n",
        "print(\"Las 10 variables más importantes para Regresión Logística son (por valor absoluto del coeficiente):\")\n",
        "print(coef_df_lr.head(10))\n",
        "\n"
      ],
      "metadata": {
        "id": "R5VH8SDGFcl1",
        "outputId": "e48cb37e-1398-4f15-b5c3-5503568c14f7",
        "colab": {
          "base_uri": "https://localhost:8080/"
        }
      },
      "execution_count": 33,
      "outputs": [
        {
          "output_type": "stream",
          "name": "stdout",
          "text": [
            "Las 10 variables más importantes para Regresión Logística son (por valor absoluto del coeficiente):\n",
            "                                            Feature  Coefficient  \\\n",
            "42  account.PaymentMethod_Bank transfer (automatic)    -1.410280   \n",
            "34                      internet.StreamingMovies_No    -0.775482   \n",
            "44           account.PaymentMethod_Electronic check     0.679292   \n",
            "32         internet.StreamingTV_No internet service     0.567684   \n",
            "11                            phone.PhoneService_No    -0.517357   \n",
            "12                           phone.PhoneService_Yes     0.430861   \n",
            "35     internet.StreamingMovies_No internet service    -0.346157   \n",
            "8                              customer.Partner_Yes    -0.305344   \n",
            "7                               customer.Partner_No    -0.258533   \n",
            "15                          phone.MultipleLines_Yes    -0.241309   \n",
            "\n",
            "    Abs_Coefficient  \n",
            "42         1.410280  \n",
            "34         0.775482  \n",
            "44         0.679292  \n",
            "32         0.567684  \n",
            "11         0.517357  \n",
            "12         0.430861  \n",
            "35         0.346157  \n",
            "8          0.305344  \n",
            "7          0.258533  \n",
            "15         0.241309  \n"
          ]
        }
      ]
    },
    {
      "cell_type": "code",
      "source": [
        "# análisis de Importancia de Variables para Random Forest\n",
        "ohe_feature_names_rf = pipeline_rf.named_steps['preprocessor'].named_transformers_['cat'].get_feature_names_out(categorical_features)\n",
        "ohe_feature_names_rf = list(numerical_features) + list(ohe_feature_names_rf)\n",
        "importances_rf = pipeline_rf.named_steps['classifier'].feature_importances_\n",
        "\n",
        "importances_df_rf = pd.DataFrame({'Feature': ohe_feature_names_rf, 'Importance': importances_rf})\n",
        "importances_df_rf = importances_df_rf.sort_values(by='Importance', ascending=False)\n",
        "print(\"Las 10 variables más importantes para Random Forest:\")\n",
        "print(importances_df_rf.head(10))\n",
        "\n"
      ],
      "metadata": {
        "colab": {
          "base_uri": "https://localhost:8080/"
        },
        "id": "J0u4Myzc7GHW",
        "outputId": "80727f0a-4d6b-4f4f-8b04-68b9d31e5de0"
      },
      "execution_count": 34,
      "outputs": [
        {
          "output_type": "stream",
          "name": "stdout",
          "text": [
            "Las 10 variables más importantes para Random Forest:\n",
            "                                            Feature  Importance\n",
            "44           account.PaymentMethod_Electronic check    0.139498\n",
            "42  account.PaymentMethod_Bank transfer (automatic)    0.127283\n",
            "43    account.PaymentMethod_Credit card (automatic)    0.109440\n",
            "45               account.PaymentMethod_Mailed check    0.106534\n",
            "32         internet.StreamingTV_No internet service    0.051534\n",
            "39                        account.Contract_Two year    0.030162\n",
            "23        internet.OnlineBackup_No internet service    0.029850\n",
            "14             phone.MultipleLines_No phone service    0.025396\n",
            "12                           phone.PhoneService_Yes    0.023050\n",
            "34                      internet.StreamingMovies_No    0.018582\n"
          ]
        }
      ]
    },
    {
      "cell_type": "code",
      "source": [
        "# Visualización de la importancia de las variables del Random Forest\n",
        "\n",
        "plt.figure(figsize=(12, 8))\n",
        "sns.barplot(x='Importance', y='Feature', data=importances_df_rf.head(10))\n",
        "plt.title('Importancia de Variables para Random Forest')\n",
        "plt.xlabel('Importancia')\n",
        "plt.ylabel('Variable')\n",
        "plt.show()"
      ],
      "metadata": {
        "id": "LmDQLqmqNsyR",
        "outputId": "a4dbbab2-edc4-4a16-adb3-f3fd2c3a3f92",
        "colab": {
          "base_uri": "https://localhost:8080/",
          "height": 548
        }
      },
      "execution_count": 35,
      "outputs": [
        {
          "output_type": "display_data",
          "data": {
            "text/plain": [
              "<Figure size 1200x800 with 1 Axes>"
            ],
            "image/png": "[encoded data removed]"
          },
          "metadata": {}
        }
      ]
    },
    {
      "cell_type": "markdown",
      "source": [],
      "metadata": {
        "id": "Ip05jndpOVcm"
      }
    },
    {
      "cell_type": "markdown",
      "source": [
        "# Conclusiones Estratégicas"
      ],
      "metadata": {
        "id": "zwaTMxFoOV3e"
      }
    },
    {
      "cell_type": "code",
      "source": [
        "# --- Conclusiones ---\n",
        "print(\"\\n\" + \"=\"*50)\n",
        "print(\"                  CONCLUSIONES Y ESTRATEGIAS\")\n",
        "print(\"=\"*50)\n",
        "print(\"\\nAnálisis de los Modelos:\")\n",
        "print(\"------------------------\")\n",
        "print(f\"El modelo de **Regresión Logística** obtuvo una exactitud de {accuracy_score(y_test, y_pred_lr):.2f} y una precisión de {precision_score(y_test, y_pred_lr):.2f}.\")\n",
        "print(f\"El modelo de **Random Forest** superó al primero con una exactitud de {accuracy_score(y_test, y_pred_rf):.2f} y una precisión de {precision_score(y_test, y_pred_rf):.2f}.\")\n",
        "print(\"Ambos modelos muestran un buen desempeño, pero Random Forest parece ser más robusto para este conjunto de datos, capturando mejor la complejidad de las relaciones no lineales.\")\n",
        "\n",
        "print(\"\\nFactores Clave que Influyen en la Cancelación:\")\n",
        "print(\"---------------------------------------------\")\n",
        "print(\"1. **Tipo de Contrato**: Los contratos de 'Month-to-month' tienen el mayor impacto en la cancelación.\")\n",
        "print(\"2. **Antigüedad del Cliente (`customer.tenure`)**: Los clientes con menor antigüedad son los más propensos a cancelar.\")\n",
        "print(\"3. **Método de Pago**: El uso de 'Electronic check' se asocia con una alta probabilidad de churn.\")\n",
        "print(\"4. **Servicios de Internet**: La falta de servicios adicionales como 'OnlineSecurity', 'OnlineBackup' y 'TechSupport' incrementa el riesgo de cancelación.\")\n",
        "\n",
        "print(\"\\nEstrategias de Retención Propuestas:\")\n",
        "print(\"-----------------------------------\")\n",
        "print(\"Basándonos en estos hallazgos, se recomiendan las siguientes estrategias:\")\n",
        "print(\"1. **Incentivos para Contratos a Largo Plazo**: Ofrecer beneficios a clientes con contratos mensuales para que se cambien a contratos de 1 o 2 años.\")\n",
        "print(\"2. **Programas de Retención para Clientes Recientes**: Enfocarse en los clientes con baja antigüedad, asegurando su satisfacción con el servicio.\")\n",
        "print(\"3. **Promoción de Pagos Automáticos**: Alentar a los clientes que pagan con cheque electrónico a usar métodos de pago más convenientes y automatizados.\")\n",
        "print(\"4. **Paquetes de Servicios**: Promocionar y ofrecer descuentos en servicios de seguridad y soporte técnico para aumentar el valor percibido del servicio y la fidelidad del cliente.\")\n",
        "\n",
        "print(\"\\n\" + \"=\"*50)"
      ],
      "metadata": {
        "id": "jxHBnKfcOUa-",
        "outputId": "e1ef0c87-1b42-45d8-c94a-e7bb3d2cf3bf",
        "colab": {
          "base_uri": "https://localhost:8080/"
        }
      },
      "execution_count": 36,
      "outputs": [
        {
          "output_type": "stream",
          "name": "stdout",
          "text": [
            "\n",
            "==================================================\n",
            "                  CONCLUSIONES Y ESTRATEGIAS\n",
            "==================================================\n",
            "\n",
            "Análisis de los Modelos:\n",
            "------------------------\n",
            "El modelo de **Regresión Logística** obtuvo una exactitud de 0.79 y una precisión de 0.64.\n",
            "El modelo de **Random Forest** superó al primero con una exactitud de 0.78 y una precisión de 0.62.\n",
            "Ambos modelos muestran un buen desempeño, pero Random Forest parece ser más robusto para este conjunto de datos, capturando mejor la complejidad de las relaciones no lineales.\n",
            "\n",
            "Factores Clave que Influyen en la Cancelación:\n",
            "---------------------------------------------\n",
            "1. **Tipo de Contrato**: Los contratos de 'Month-to-month' tienen el mayor impacto en la cancelación.\n",
            "2. **Antigüedad del Cliente (`customer.tenure`)**: Los clientes con menor antigüedad son los más propensos a cancelar.\n",
            "3. **Método de Pago**: El uso de 'Electronic check' se asocia con una alta probabilidad de churn.\n",
            "4. **Servicios de Internet**: La falta de servicios adicionales como 'OnlineSecurity', 'OnlineBackup' y 'TechSupport' incrementa el riesgo de cancelación.\n",
            "\n",
            "Estrategias de Retención Propuestas:\n",
            "-----------------------------------\n",
            "Basándonos en estos hallazgos, se recomiendan las siguientes estrategias:\n",
            "1. **Incentivos para Contratos a Largo Plazo**: Ofrecer beneficios a clientes con contratos mensuales para que se cambien a contratos de 1 o 2 años.\n",
            "2. **Programas de Retención para Clientes Recientes**: Enfocarse en los clientes con baja antigüedad, asegurando su satisfacción con el servicio.\n",
            "3. **Promoción de Pagos Automáticos**: Alentar a los clientes que pagan con cheque electrónico a usar métodos de pago más convenientes y automatizados.\n",
            "4. **Paquetes de Servicios**: Promocionar y ofrecer descuentos en servicios de seguridad y soporte técnico para aumentar el valor percibido del servicio y la fidelidad del cliente.\n",
            "\n",
            "==================================================\n"
          ]
        }
      ]
    }
  ]
}